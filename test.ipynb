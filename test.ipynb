{
 "cells": [
  {
   "cell_type": "markdown",
   "metadata": {},
   "source": [
    "# Test Sheet"
   ]
  },
  {
   "cell_type": "code",
   "execution_count": 3,
   "metadata": {},
   "outputs": [],
   "source": [
    "from BeamRect import RCC_BeamRect"
   ]
  },
  {
   "cell_type": "markdown",
   "metadata": {},
   "source": [
    "## Beams"
   ]
  },
  {
   "cell_type": "code",
   "execution_count": 5,
   "metadata": {},
   "outputs": [
    {
     "name": "stdout",
     "output_type": "stream",
     "text": [
      "B1\n",
      "z = 165.489 mm\n",
      "Concrete: C20/25\n",
      "f_ck = 20 MPa\n",
      "Rebar Layout: [[4, 16], [2, 16]]\n",
      "\n",
      "B2\n",
      "z = 407.419 mm\n",
      "Concrete: C20/25\n",
      "f_ck = 20 MPa\n",
      "Rebar Layout: [[4, 16], [2, 16]]\n",
      "\n",
      "B3\n",
      "z = 523.134 mm\n",
      "Concrete: C30/37\n",
      "f_ck = 30 MPa\n",
      "Rebar Layout: [[4, 16], [2, 16]]\n",
      "\n",
      "B4\n",
      "z = 516.557 mm\n",
      "Concrete: C30/37\n",
      "f_ck = 30 MPa\n",
      "Rebar Layout: [[4, 16], [2, 16]]\n",
      "\n"
     ]
    }
   ],
   "source": [
    "B1 = RCC_BeamRect(\"B1\",80,0,250,300,[[4,16],[2,16]],\"C20/25\")\n",
    "B2 = RCC_BeamRect(\"B2\",100,0,250,500,[[4,16],[2,16]],\"C20/25\")\n",
    "B3 = RCC_BeamRect(\"B3\",120,0,250,600,[[4,16],[2,16]],\"C30/37\")\n",
    "B4 = RCC_BeamRect(\"B4\",150,0,250,600,[[4,16],[2,16]],\"C30/37\")\n",
    "\n",
    "Beams = [B1,B2,B3,B4]\n",
    "\n",
    "for Beam in Beams:\n",
    "    print(f\"{Beam.name}\")\n",
    "    print(f\"z = {Beam.z} mm\")\n",
    "    print(f\"Concrete: {Beam.concreteMaterial}\")\n",
    "    print(f\"f_ck = {Beam.f_ck} MPa\")\n",
    "    print(f\"Rebar Layout: {Beam.bars}\\n\")\n"
   ]
  }
 ],
 "metadata": {
  "kernelspec": {
   "display_name": ".venv",
   "language": "python",
   "name": "python3"
  },
  "language_info": {
   "codemirror_mode": {
    "name": "ipython",
    "version": 3
   },
   "file_extension": ".py",
   "mimetype": "text/x-python",
   "name": "python",
   "nbconvert_exporter": "python",
   "pygments_lexer": "ipython3",
   "version": "3.12.1"
  }
 },
 "nbformat": 4,
 "nbformat_minor": 2
}

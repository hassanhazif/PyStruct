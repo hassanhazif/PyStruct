{
 "cells": [
  {
   "cell_type": "markdown",
   "metadata": {},
   "source": [
    "# Test Sheet"
   ]
  },
  {
   "cell_type": "code",
   "execution_count": 1,
   "metadata": {},
   "outputs": [
    {
     "name": "stdout",
     "output_type": "stream",
     "text": [
      "A st req: 965\n",
      "A st prov: 1005.31\n",
      "\n",
      "{'A_st': 'PASS', 'A_sc': 'PASS'}\n"
     ]
    }
   ],
   "source": [
    "from BeamRect import RCC_BeamRect"
   ]
  },
  {
   "cell_type": "markdown",
   "metadata": {},
   "source": [
    "## Beams"
   ]
  },
  {
   "cell_type": "code",
   "execution_count": 2,
   "metadata": {},
   "outputs": [
    {
     "name": "stdout",
     "output_type": "stream",
     "text": [
      "B1\n",
      "z = 334.911 mm\n",
      "Concrete: C20/25\n",
      "f_ck = 20 MPa\n",
      "Reinforcement type: singly\n",
      "\n",
      "B2\n",
      "z = 322.337 mm\n",
      "Concrete: C20/25\n",
      "f_ck = 20 MPa\n",
      "Reinforcement type: singly\n",
      "\n",
      "B3\n",
      "z = 334.911 mm\n",
      "Concrete: C30/37\n",
      "f_ck = 30 MPa\n",
      "Reinforcement type: singly\n",
      "\n",
      "B4\n",
      "z = 308.899 mm\n",
      "Concrete: C30/37\n",
      "f_ck = 30 MPa\n",
      "Reinforcement type: doubly\n",
      "\n"
     ]
    }
   ],
   "source": [
    "BarArray = {\"TOP\":[\"T\",0,[[4,12]]], \"BTM\":[\"T\",20,[[2,10],[2,10]]],\"LNK\":[\"R\",100,[[2,8]]]}\n",
    "\n",
    "B1 = RCC_BeamRect(\"B1\",80,0,0,250,400,BarArray,\"C20/25\")\n",
    "B2 = RCC_BeamRect(\"B2\",100,0,0,250,400,BarArray,\"C20/25\")\n",
    "B3 = RCC_BeamRect(\"B3\",120,0,0,250,400,BarArray,\"C30/37\")\n",
    "B4 = RCC_BeamRect(\"B4\",300,0,0,250,400,BarArray,\"C30/37\")\n",
    "\n",
    "Beams = [B1,B2,B3,B4]\n",
    "\n",
    "for Beam in Beams:\n",
    "    print(f\"{Beam.name}\")\n",
    "    print(f\"z = {Beam.z} mm\")\n",
    "    print(f\"Concrete: {Beam.concreteMaterial}\")\n",
    "    print(f\"f_ck = {Beam.f_ck} MPa\")\n",
    "    print(f\"Reinforcement type: {Beam.rf_type}\\n\")\n"
   ]
  }
 ],
 "metadata": {
  "kernelspec": {
   "display_name": "base",
   "language": "python",
   "name": "python3"
  },
  "language_info": {
   "codemirror_mode": {
    "name": "ipython",
    "version": 3
   },
   "file_extension": ".py",
   "mimetype": "text/x-python",
   "name": "python",
   "nbconvert_exporter": "python",
   "pygments_lexer": "ipython3",
   "version": "3.11.5"
  }
 },
 "nbformat": 4,
 "nbformat_minor": 2
}

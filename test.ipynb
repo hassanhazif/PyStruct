{
 "cells": [
  {
   "cell_type": "markdown",
   "metadata": {},
   "source": [
    "# Test Sheet"
   ]
  },
  {
   "cell_type": "code",
   "execution_count": 4,
   "metadata": {},
   "outputs": [],
   "source": [
    "from BeamRect import RCC_BeamRect"
   ]
  },
  {
   "cell_type": "markdown",
   "metadata": {},
   "source": [
    "## Beams"
   ]
  },
  {
   "cell_type": "code",
   "execution_count": null,
   "metadata": {},
   "outputs": [
    {
     "name": "stdout",
     "output_type": "stream",
     "text": [
      "{'A_st': 'FAIL', 'A_sc': 'PASS'}\n",
      "{1: 'V_Rdc (40.27093800761552) <= V_ED (50000), SHEAR RF IS REQUIRED', 'V_RD': 'FAIL'}\n",
      "{'A_st': 'FAIL', 'A_sc': 'PASS'}\n",
      "{'Check 1': 'V_Rdc (40.27093800761552) >= V_ED (0), SHEAR RF IS NOT REQUIRED'}\n",
      "{'A_st': 'FAIL', 'A_sc': 'PASS'}\n",
      "{'Check 1': 'V_Rdc (46.098716298299784) >= V_ED (0), SHEAR RF IS NOT REQUIRED'}\n",
      "{'A_st': 'FAIL', 'A_sc': 'PASS'}\n",
      "{'Check 1': 'V_Rdc (43.380552921865174) >= V_ED (0), SHEAR RF IS NOT REQUIRED'}\n"
     ]
    }
   ],
   "source": [
    "BarArray = {\"TOP\":[\"T\",0,[[4,12]]], \"BTM\":[\"T\",20,[[2,10],[2,10]]],\"LNK\":[\"R\",100,[[2,8]]]}\n",
    "\n",
    "B1 = RCC_BeamRect(\"B1\",80,50000,0,250,400,BarArray,\"C20/25\")\n",
    "B2 = RCC_BeamRect(\"B2\",100,0,0,250,400,BarArray,\"C20/25\")\n",
    "B3 = RCC_BeamRect(\"B3\",120,0,0,250,400,BarArray,\"C30/37\")\n",
    "B4 = RCC_BeamRect(\"B4\",200,0,0,250,400,BarArray,\"C25/30\")\n",
    "\n",
    "Beams = [B1,B2,B3,B4]\n",
    "\n",
    "for Beam in Beams:\n",
    "    print(Beam.flexuralCheck())\n",
    "    print(Beam.ShearCheck())"
   ]
  }
 ],
 "metadata": {
  "kernelspec": {
   "display_name": ".venv",
   "language": "python",
   "name": "python3"
  },
  "language_info": {
   "codemirror_mode": {
    "name": "ipython",
    "version": 3
   },
   "file_extension": ".py",
   "mimetype": "text/x-python",
   "name": "python",
   "nbconvert_exporter": "python",
   "pygments_lexer": "ipython3",
   "version": "3.11.2"
  }
 },
 "nbformat": 4,
 "nbformat_minor": 2
}
